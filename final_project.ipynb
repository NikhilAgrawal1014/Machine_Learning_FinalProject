{
  "nbformat": 4,
  "nbformat_minor": 0,
  "metadata": {
    "colab": {
      "provenance": []
    },
    "kernelspec": {
      "name": "python3",
      "display_name": "Python 3"
    },
    "language_info": {
      "name": "python"
    }
  },
  "cells": [
    {
      "cell_type": "code",
      "source": [
        "from tensorflow.keras.utils import to_categorical\n"
      ],
      "metadata": {
        "id": "RsJjTClYwLFq"
      },
      "execution_count": 21,
      "outputs": []
    },
    {
      "cell_type": "code",
      "source": [
        "import os\n",
        "import cv2\n",
        "import numpy as np\n",
        "import pandas as pd\n",
        "from tensorflow.keras.utils import to_categorical\n",
        "from sklearn.preprocessing import LabelEncoder\n",
        "from tensorflow.keras.models import Sequential\n",
        "from tensorflow.keras.layers import Conv2D, MaxPooling2D, Flatten, Dense\n",
        "from tensorflow.keras.optimizers import Adam\n",
        "from tensorflow.keras.callbacks import EarlyStopping\n",
        "from sklearn.metrics import classification_report, roc_auc_score, f1_score, average_precision_score"
      ],
      "metadata": {
        "id": "Q9dkLhDdwmOa"
      },
      "execution_count": 24,
      "outputs": []
    },
    {
      "cell_type": "code",
      "source": [
        "# Paths in Google Drive\n",
        "image_folder = '/content/drive/MyDrive/KCDH2024_Test_Input/KCDH2024_Test_Input'\n",
        "train_ground_truth_path = '/content/TrainingGroundTruth.xlsx'\n",
        "test_ground_truth_path = '/content/TestGroundTruth.xlsx'\n",
        "train_lesion_groupings_path = '/content/TrainingLesionGroupings.xlsx'"
      ],
      "metadata": {
        "id": "6Rk8s3u_wrRA"
      },
      "execution_count": 33,
      "outputs": []
    },
    {
      "cell_type": "code",
      "source": [
        "\n",
        "# Load and preprocess images\n",
        "def load_and_preprocess_image(image_path, target_size=(128, 128)):\n",
        "    image = cv2.imread(image_path)\n",
        "    image = cv2.cvtColor(image, cv2.COLOR_BGR2RGB)\n",
        "    image = cv2.resize(image, target_size)\n",
        "    image = image / 255.0  # Normalize to [0, 1]\n",
        "    return image\n",
        "\n",
        "def create_image_array(image_paths, target_size=(128, 128)):\n",
        "    images = np.array([load_and_preprocess_image(os.path.join(image_folder, path), target_size) for path in image_paths])\n",
        "    return images\n"
      ],
      "metadata": {
        "id": "NRg8f59lwu7Q"
      },
      "execution_count": 26,
      "outputs": []
    },
    {
      "cell_type": "code",
      "source": [
        "# Load the data\n",
        "train_ground_truth = pd.read_excel(train_ground_truth_path)\n",
        "test_ground_truth = pd.read_excel(test_ground_truth_path)\n",
        "\n",
        "# Print column names\n",
        "print(\"Train Ground Truth Columns:\", train_ground_truth.columns)\n",
        "print(\"Test Ground Truth Columns:\", test_ground_truth.columns)\n"
      ],
      "metadata": {
        "colab": {
          "base_uri": "https://localhost:8080/"
        },
        "id": "AC-7d4zvxRdB",
        "outputId": "55828d17-0d61-41fb-9f32-dc6aede85df9"
      },
      "execution_count": 28,
      "outputs": [
        {
          "output_type": "stream",
          "name": "stdout",
          "text": [
            "Train Ground Truth Columns: Index(['image', 'MEL', 'NV', 'BCC', 'AKIEC', 'BKL', 'DF', 'VASC'], dtype='object')\n",
            "Test Ground Truth Columns: Index(['image', 'MEL', 'NV', 'BCC', 'AKIEC', 'BKL', 'DF', 'VASC'], dtype='object')\n"
          ]
        }
      ]
    },
    {
      "cell_type": "code",
      "source": [
        "\n",
        "# Prepare image paths\n",
        "train_image_paths = [f'{id}.jpg' for id in train_ground_truth['image']]\n",
        "test_image_paths = [f'{id}.jpg' for id in test_ground_truth['image']]\n"
      ],
      "metadata": {
        "id": "upnHQELcyMs6"
      },
      "execution_count": 35,
      "outputs": []
    },
    {
      "cell_type": "code",
      "source": [
        "# Load and preprocess images\n",
        "def load_and_preprocess_image(image_path, target_size=(128, 128)):\n",
        "    full_path = os.path.join(image_folder, image_path)\n",
        "    if not os.path.isfile(full_path):\n",
        "        print(f\"Warning: File {full_path} not found.\")\n",
        "        return np.zeros((target_size[0], target_size[1], 3))  # Return an empty image if file is not found\n",
        "    image = cv2.imread(full_path)\n",
        "    if image is None:\n",
        "        print(f\"Error loading image {full_path}.\")\n",
        "        return np.zeros((target_size[0], target_size[1], 3))  # Return an empty image if loading fails\n",
        "    image = cv2.cvtColor(image, cv2.COLOR_BGR2RGB)\n",
        "    image = cv2.resize(image, target_size)\n",
        "    image = image / 255.0  # Normalize to [0, 1]\n",
        "    return image\n",
        "\n",
        "def create_image_array(image_paths, target_size=(128, 128)):\n",
        "    images = []\n",
        "    for path in image_paths:\n",
        "        image = load_and_preprocess_image(path, target_size)\n",
        "        images.append(image)\n",
        "    return np.array(images)\n"
      ],
      "metadata": {
        "id": "aJlCEZxPyLbX"
      },
      "execution_count": 31,
      "outputs": []
    },
    {
      "cell_type": "code",
      "source": [
        "\n",
        "\n",
        "# Load and preprocess images\n",
        "X_train_images = create_image_array(train_image_paths)\n",
        "X_test_images = create_image_array(test_image_paths)\n",
        "\n",
        "# Load and prepare labels\n",
        "train_labels = train_ground_truth['dx']\n",
        "test_labels = test_ground_truth['dx']\n",
        "\n",
        "# Encode labels\n",
        "label_encoder = LabelEncoder()\n",
        "train_labels_encoded = label_encoder.fit_transform(train_labels)\n",
        "test_labels_encoded = label_encoder.transform(test_labels)\n",
        "\n",
        "# Convert to categorical\n",
        "categorical_train_labels = to_categorical(train_labels_encoded)\n",
        "categorical_test_labels = to_categorical(test_labels_encoded)\n",
        "\n",
        "print(f'Number of classes: {len(label_encoder.classes_)}')"
      ],
      "metadata": {
        "id": "ouvC5NcX3oIl"
      },
      "execution_count": null,
      "outputs": []
    },
    {
      "cell_type": "code",
      "source": [
        "# Build the model\n",
        "model = Sequential([\n",
        "    Conv2D(32, (3, 3), activation='relu', input_shape=(128, 128, 3)),\n",
        "    MaxPooling2D((2, 2)),\n",
        "    Conv2D(64, (3, 3), activation='relu'),\n",
        "    MaxPooling2D((2, 2)),\n",
        "    Conv2D(128, (3, 3), activation='relu'),\n",
        "    MaxPooling2D((2, 2)),\n",
        "    Flatten(),\n",
        "    Dense(128, activation='relu'),\n",
        "    Dense(len(label_encoder.classes_), activation='softmax')  # Output layer for number of classes\n",
        "])\n",
        "\n",
        "model.compile(optimizer=Adam(), loss='categorical_crossentropy', metrics=['accuracy'])\n",
        "\n",
        "# Train the model\n",
        "early_stopping = EarlyStopping(monitor='val_loss', patience=3)\n",
        "history = model.fit(X_train_images, categorical_train_labels, validation_split=0.2, epochs=20, callbacks=[early_stopping])\n",
        "\n",
        "# Evaluate the model\n",
        "test_predictions = model.predict(X_test_images)\n",
        "test_predictions_labels = np.argmax(test_predictions, axis=1)\n",
        "\n",
        "# Calculate metrics\n",
        "test_labels_true = np.argmax(categorical_test_labels, axis=1)\n",
        "accuracy = np.mean(test_predictions_labels == test_labels_true)\n",
        "f1 = f1_score(test_labels_true, test_predictions_labels, average='weighted')\n",
        "auc = roc_auc_score(categorical_test_labels, test_predictions, multi_class='ovr')\n",
        "map_score = average_precision_score(categorical_test_labels, test_predictions, average='weighted')\n",
        "\n",
        "print(f'Accuracy: {accuracy}')\n",
        "print(f'F1 Score: {f1}')\n",
        "print(f'AUC: {auc}')\n",
        "print(f'Mean Average Precision: {map_score}')\n",
        "\n",
        "# Prepare predictions DataFrame\n",
        "test_ground_truth['predicted_dx'] = label_encoder.inverse_transform(test_predictions_labels)\n",
        "test_ground_truth.to_csv('/content/test_predictions.csv', index=False)"
      ],
      "metadata": {
        "id": "gBjpT-Q830cl"
      },
      "execution_count": null,
      "outputs": []
    }
  ]
}